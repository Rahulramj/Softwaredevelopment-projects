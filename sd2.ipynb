{
  "nbformat": 4,
  "nbformat_minor": 0,
  "metadata": {
    "colab": {
      "provenance": [],
      "authorship_tag": "ABX9TyNta66tEXWLNPrtpEcGgH8b"
    },
    "kernelspec": {
      "name": "python3",
      "display_name": "Python 3"
    },
    "language_info": {
      "name": "python"
    }
  },
  "cells": [
    {
      "cell_type": "code",
      "source": [
        "import random\n",
        "\n",
        "def guess_the_number():\n",
        "    number_to_guess = random.randint(1, 100)\n",
        "\n",
        "    attempts = 0\n",
        "\n",
        "    print(\"I have generated a random number between 1 and 100. Can you guess what it is?\")\n",
        "\n",
        "    while True:\n",
        "        try:\n",
        "            guess = int(input(\"Enter your guess: \"))\n",
        "            attempts += 1\n",
        "\n",
        "            if guess < number_to_guess:\n",
        "                print(\"Too low! Try again.\")\n",
        "            elif guess > number_to_guess:\n",
        "                print(\"Too high! Try again.\")\n",
        "            else:\n",
        "                print(f\"Congratulations! You've guessed the number {number_to_guess} correctly in {attempts} attempts.\")\n",
        "                break\n",
        "        except ValueError:\n",
        "            print(\"Invalid input. Please enter a numeric value.\")\n",
        "\n",
        "if __name__ == \"__main__\":\n",
        "    guess_the_number()\n"
      ],
      "metadata": {
        "colab": {
          "base_uri": "https://localhost:8080/"
        },
        "id": "NLgQRrd0XyHP",
        "outputId": "2c6e5294-1fe2-45af-e1db-b135f3498ed7"
      },
      "execution_count": 20,
      "outputs": [
        {
          "output_type": "stream",
          "name": "stdout",
          "text": [
            "I have generated a random number between 1 and 100. Can you guess what it is?\n",
            "Enter your guess: 50\n",
            "Too low! Try again.\n",
            "Enter your guess: 90\n",
            "Too high! Try again.\n",
            "Enter your guess: 70\n",
            "Too low! Try again.\n",
            "Enter your guess: 80\n",
            "Too high! Try again.\n",
            "Enter your guess: 75\n",
            "Too low! Try again.\n",
            "Enter your guess: 79\n",
            "Too high! Try again.\n",
            "Enter your guess: 77\n",
            "Too high! Try again.\n",
            "Enter your guess: 76\n",
            "Congratulations! You've guessed the number 76 correctly in 8 attempts.\n"
          ]
        }
      ]
    }
  ]
}