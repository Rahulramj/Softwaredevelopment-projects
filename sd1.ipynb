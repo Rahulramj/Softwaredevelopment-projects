{
  "nbformat": 4,
  "nbformat_minor": 0,
  "metadata": {
    "colab": {
      "provenance": [],
      "authorship_tag": "ABX9TyOW43PSICJ0kxBpclbyJHKe"
    },
    "kernelspec": {
      "name": "python3",
      "display_name": "Python 3"
    },
    "language_info": {
      "name": "python"
    }
  },
  "cells": [
    {
      "cell_type": "code",
      "source": [
        "def celsius_to_fahrenheit(celsius):\n",
        "    return (celsius * 9/5) + 32\n",
        "\n",
        "def celsius_to_kelvin(celsius):\n",
        "    return celsius + 273.15\n",
        "\n",
        "def fahrenheit_to_celsius(fahrenheit):\n",
        "    return (fahrenheit - 32) * 5/9\n",
        "\n",
        "def fahrenheit_to_kelvin(fahrenheit):\n",
        "    return (fahrenheit - 32) * 5/9 + 273.15\n",
        "\n",
        "def kelvin_to_celsius(kelvin):\n",
        "    return kelvin - 273.15\n",
        "\n",
        "def kelvin_to_fahrenheit(kelvin):\n",
        "    return (kelvin - 273.15) * 9/5 + 32\n",
        "\n",
        "def convert_temperature(value, unit):\n",
        "    if unit.lower() == 'c':\n",
        "        fahrenheit = celsius_to_fahrenheit(value)\n",
        "        kelvin = celsius_to_kelvin(value)\n",
        "        return value, fahrenheit, kelvin\n",
        "    elif unit.lower() == 'f':\n",
        "        celsius = fahrenheit_to_celsius(value)\n",
        "        kelvin = fahrenheit_to_kelvin(value)\n",
        "        return celsius, value, kelvin\n",
        "    elif unit.lower() == 'k':\n",
        "        celsius = kelvin_to_celsius(value)\n",
        "        fahrenheit = kelvin_to_fahrenheit(celsius)\n",
        "        return celsius, fahrenheit, value\n",
        "    else:\n",
        "        return None\n",
        "\n",
        "def main():\n",
        "    try:\n",
        "        value = float(input(\"Enter the temperature value: \"))\n",
        "        unit = input(\"Enter the unit of measurement (C for Celsius, F for Fahrenheit, K for Kelvin): \").strip()\n",
        "\n",
        "        result = convert_temperature(value, unit)\n",
        "        if result:\n",
        "            celsius, fahrenheit, kelvin = result\n",
        "            print(f\"\\nTemperature Conversions:\")\n",
        "            print(f\"Celsius: {celsius:.2f}°C\")\n",
        "            print(f\"Fahrenheit: {fahrenheit:.2f}°F\")\n",
        "            print(f\"Kelvin: {kelvin:.2f}K\")\n",
        "        else:\n",
        "            print(\"Invalid unit of measurement. Please enter C, F, or K.\")\n",
        "    except ValueError:\n",
        "        print(\"Invalid temperature value. Please enter a numeric value.\")\n",
        "\n",
        "if __name__ == \"__main__\":\n",
        "    main()\n"
      ],
      "metadata": {
        "colab": {
          "base_uri": "https://localhost:8080/"
        },
        "id": "NLgQRrd0XyHP",
        "outputId": "0b0747f3-76bf-4ee4-a7c7-b532ff320edd"
      },
      "execution_count": 11,
      "outputs": [
        {
          "output_type": "stream",
          "name": "stdout",
          "text": [
            "Enter the temperature value: 1\n",
            "Enter the unit of measurement (C for Celsius, F for Fahrenheit, K for Kelvin): K\n",
            "\n",
            "Temperature Conversions:\n",
            "Celsius: -272.15°C\n",
            "Fahrenheit: -949.54°F\n",
            "Kelvin: 1.00K\n"
          ]
        }
      ]
    }
  ]
}