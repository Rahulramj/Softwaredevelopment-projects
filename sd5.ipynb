{
  "nbformat": 4,
  "nbformat_minor": 0,
  "metadata": {
    "colab": {
      "provenance": [],
      "authorship_tag": "ABX9TyMf7YdTf5T4ukDg0K64Opbi"
    },
    "kernelspec": {
      "name": "python3",
      "display_name": "Python 3"
    },
    "language_info": {
      "name": "python"
    }
  },
  "cells": [
    {
      "cell_type": "code",
      "source": [
        "import requests\n",
        "from bs4 import BeautifulSoup\n",
        "import csv\n",
        "\n",
        "def scrape_amazon(url):\n",
        "    headers = {\n",
        "        \"User-Agent\": \"Mozilla/5.0 (Windows NT 10.0; Win64; x64) AppleWebKit/537.36 (KHTML, like Gecko) Chrome/91.0.4472.124 Safari/537.36\"\n",
        "    }\n",
        "\n",
        "    response = requests.get(url, headers=headers)\n",
        "\n",
        "    if response.status_code != 200:\n",
        "        print(\"Failed to retrieve the web page. Status code:\", response.status_code)\n",
        "        return []\n",
        "\n",
        "    soup = BeautifulSoup(response.content, 'html.parser')\n",
        "\n",
        "    products = []\n",
        "    for product in soup.find_all('div', {'data-component-type': 's-search-result'}):\n",
        "        name = product.h2.text.strip()\n",
        "        try:\n",
        "            price = product.find('span', 'a-price-whole').text.strip()\n",
        "        except AttributeError:\n",
        "            price = \"N/A\"\n",
        "        try:\n",
        "            rating = product.find('span', 'a-icon-alt').text.strip()\n",
        "        except AttributeError:\n",
        "            rating = \"N/A\"\n",
        "\n",
        "        products.append({'name': name, 'price': price, 'rating': rating})\n",
        "\n",
        "    return products\n",
        "\n",
        "def save_to_csv(products, filename):\n",
        "    with open(filename, mode='w', newline='', encoding='utf-8') as file:\n",
        "        writer = csv.DictWriter(file, fieldnames=['name', 'price', 'rating'])\n",
        "        writer.writeheader()\n",
        "        for product in products:\n",
        "            writer.writerow(product)\n",
        "\n",
        "def main():\n",
        "    url = \"https://www.amazon.com/s?k=best+sellers\"\n",
        "    products = scrape_amazon(url)\n",
        "    if products:\n",
        "        save_to_csv(products, 'amazon_products.csv')\n",
        "        print(f\"Saved {len(products)} products to 'amazon_products.csv'\")\n",
        "    else:\n",
        "        print(\"No products found or failed to scrape the website.\")\n",
        "\n",
        "if __name__ == \"__main__\":\n",
        "    main()\n"
      ],
      "metadata": {
        "colab": {
          "base_uri": "https://localhost:8080/"
        },
        "id": "NLgQRrd0XyHP",
        "outputId": "3ed61d3d-e409-43b7-e671-e3faef34ccad"
      },
      "execution_count": 31,
      "outputs": [
        {
          "output_type": "stream",
          "name": "stdout",
          "text": [
            "Failed to retrieve the web page. Status code: 503\n",
            "No products found or failed to scrape the website.\n"
          ]
        }
      ]
    }
  ]
}